{
 "cells": [
  {
   "cell_type": "markdown",
   "id": "8ab55536-1c75-4728-8a58-a7a66dc3d7db",
   "metadata": {},
   "source": [
    "# Working Notebook\n",
    "\n",
    "Welcome to the _Programming with Python_ course! We will be using this notebook to go through the lecture materials, as well as to work _together_ on practical examples and exercises."
   ]
  },
  {
   "cell_type": "markdown",
   "id": "8376b782-cfd1-48d8-91db-1d53565675cf",
   "metadata": {},
   "source": [
    "## first thing: let's familiarise with the environment\n",
    "\n",
    "Let's talk about **Jupyter Notebooks** for a second."
   ]
  },
  {
   "cell_type": "code",
   "execution_count": 1,
   "id": "f53bb072-e218-492a-bef6-e6d78dc9ffdf",
   "metadata": {},
   "outputs": [],
   "source": [
    "# code cell"
   ]
  },
  {
   "cell_type": "markdown",
   "id": "39a01f33-d622-4c65-a545-ed1b6daebbbe",
   "metadata": {},
   "source": [
    "Text Cell"
   ]
  },
  {
   "cell_type": "code",
   "execution_count": 2,
   "id": "f0b90233-2a73-46a4-9717-9a68c365be69",
   "metadata": {},
   "outputs": [],
   "source": [
    "# third"
   ]
  },
  {
   "cell_type": "code",
   "execution_count": 3,
   "id": "060f82c9-e4b8-45e8-b05c-2f969447fb61",
   "metadata": {},
   "outputs": [],
   "source": [
    "# second"
   ]
  },
  {
   "cell_type": "code",
   "execution_count": null,
   "id": "fd36f8e1-5b40-411f-beb7-5e6a3e3d47e7",
   "metadata": {},
   "outputs": [],
   "source": []
  },
  {
   "cell_type": "markdown",
   "id": "05bf6893-81bf-4863-a024-b029dad9614a",
   "metadata": {},
   "source": [
    "---"
   ]
  },
  {
   "cell_type": "markdown",
   "id": "8a59ce6b-9cdc-4009-a6c3-f453a8ed00ae",
   "metadata": {},
   "source": [
    "$\\rightarrow$ _Adapted from_ : [**Software Carpentries: Programming with Python**]()\n",
    "\n",
    "## Arthritis Inflammation\n",
    "We are studying **inflammation in patients** who have been given a new treatment for arthritis.\n",
    "\n",
    "There are `60` patients, who had their inflammation levels recorded for `40` days.\n",
    "We want to analyze these recordings to study the effect of the new arthritis treatment.\n",
    "\n",
    "To see how the treatment is affecting the patients in general, we would like to:\n",
    "\n",
    "1. Process the file to extract data for each patient;\n",
    "2. Calculate some statistics on each patient;\n",
    "    - e.g. average inflammation over the `40` days (or `min`, `max` .. and so on)\n",
    "    - e.g average statistics per week (we will assume `40` days account for `5` weeks)\n",
    "    - `...` (open to ideas)\n",
    "3. Calculate some statistics on the dataset.\n",
    "    - e.g. min and max inflammation registered overall in the clinical study;\n",
    "    - e.g. the average inflammation per day across all patients.\n",
    "    - `...` (open to ideas)\n",
    "\n",
    "\n",
    "![3-step flowchart shows inflammation data records for patients moving to the Analysis step\n",
    "where a heat map of provided data is generated moving to the Conclusion step that asks the\n",
    "question, How does the medication affect patients?](\n",
    "https://raw.githubusercontent.com/swcarpentry/python-novice-inflammation/gh-pages/fig/lesson-overview.svg \"Lesson Overview\")\n",
    "\n",
    "\n",
    "### Data Format\n",
    "\n",
    "The data sets are stored in\n",
    "[comma-separated values] (CSV) format:\n",
    "\n",
    "- each row holds information for a single patient,\n",
    "- columns represent successive days.\n",
    "\n",
    "The first three rows of our first file look like this:\n",
    "~~~\n",
    "0,0,1,3,1,2,4,7,8,3,3,3,10,5,7,4,7,7,12,18,6,13,11,11,7,7,4,6,8,8,4,4,5,7,3,4,2,3,0,0\n",
    "0,1,2,1,2,1,3,2,2,6,10,11,5,9,4,4,7,16,8,6,18,4,12,5,12,7,11,5,11,3,3,5,4,4,5,5,1,1,0,1\n",
    "0,1,1,3,3,2,6,2,5,9,5,7,4,5,4,15,5,11,9,10,19,14,12,17,7,12,11,7,4,2,10,5,4,2,2,3,2,2,1,1\n",
    "~~~\n",
    "\n",
    "Each number represents the number of inflammation bouts that a particular patient experienced on a\n",
    "given day.\n",
    "\n",
    "For example, value \"6\" at row 3 column 7 of the data set above means that the third\n",
    "patient was experiencing inflammation six times on the seventh day of the clinical study.\n",
    "\n",
    "Our **task** is to gather as much information as possible from the dataset, and to report back to colleagues to foster future discussions."
   ]
  },
  {
   "cell_type": "markdown",
   "id": "31f65289-4826-49db-b213-5152e363f9db",
   "metadata": {},
   "source": [
    "### Let'make a plan\n",
    "\n",
    "- Problem description (step by step) in NATURAL LANGUAGE (**strict rule**) - imagine you're explaining this to someone who doesn't know **anything** about programming.\n",
    "- What do we need to start\n",
    "- Where do we start"
   ]
  },
  {
   "cell_type": "code",
   "execution_count": 4,
   "id": "1741f9bc-95a7-4174-9301-d8a2b7e5bb4d",
   "metadata": {},
   "outputs": [],
   "source": [
    "# I'll go first - let's create a dummy file to practice named dummy, two rows, ten values"
   ]
  },
  {
   "cell_type": "code",
   "execution_count": 5,
   "id": "6cf6afcb-d86e-47de-b9f8-4a088e95392f",
   "metadata": {},
   "outputs": [],
   "source": [
    "file = open(\"dummy.csv\")\n",
    "\n",
    "# Read: going line by line\n",
    "# read the first and save the data for patient 1\n",
    "# read line 2 and save the data for patient 2\n",
    "\n",
    "lines = file.readlines()\n",
    "patient1 = lines[0]\n",
    "patient2 = lines[1]"
   ]
  },
  {
   "cell_type": "code",
   "execution_count": 6,
   "id": "0b4c4c53-9451-455a-806b-52561209b644",
   "metadata": {},
   "outputs": [
    {
     "data": {
      "text/plain": [
       "'1,2,3,4,5,6,7,8,9,10\\n'"
      ]
     },
     "execution_count": 6,
     "metadata": {},
     "output_type": "execute_result"
    }
   ],
   "source": [
    "patient1"
   ]
  },
  {
   "cell_type": "code",
   "execution_count": 7,
   "id": "5fa120a1-e60f-44f1-9a46-ca640e551eda",
   "metadata": {},
   "outputs": [
    {
     "data": {
      "text/plain": [
       "'10,9,8,7,6,5,4,3,2,1'"
      ]
     },
     "execution_count": 7,
     "metadata": {},
     "output_type": "execute_result"
    }
   ],
   "source": [
    "patient2"
   ]
  },
  {
   "cell_type": "code",
   "execution_count": 8,
   "id": "9a914373-57ae-46fd-b002-4d71f986283f",
   "metadata": {},
   "outputs": [],
   "source": [
    "file = open(\"dummy.csv\")\n",
    "lines = file.readlines()\n",
    "\n",
    "for i in (0, 1):\n",
    "    if i == 0:\n",
    "        patient1 = lines[i]\n",
    "    else:\n",
    "        patient2 = lines[i]"
   ]
  },
  {
   "cell_type": "code",
   "execution_count": 9,
   "id": "83f71ca3-14ec-4a00-b0e9-88ba1a9e5748",
   "metadata": {},
   "outputs": [
    {
     "data": {
      "text/plain": [
       "'1,2,3,4,5,6,7,8,9,10\\n'"
      ]
     },
     "execution_count": 9,
     "metadata": {},
     "output_type": "execute_result"
    }
   ],
   "source": [
    "patient1"
   ]
  },
  {
   "cell_type": "code",
   "execution_count": 10,
   "id": "a75846a5-c0f6-49c9-ace5-b1f364e4846b",
   "metadata": {},
   "outputs": [
    {
     "data": {
      "text/plain": [
       "'10,9,8,7,6,5,4,3,2,1'"
      ]
     },
     "execution_count": 10,
     "metadata": {},
     "output_type": "execute_result"
    }
   ],
   "source": [
    "patient2"
   ]
  },
  {
   "cell_type": "markdown",
   "id": "aa16a789-4cca-4ca5-b232-5d67ffedc296",
   "metadata": {},
   "source": [
    "How to collect information from data file"
   ]
  },
  {
   "cell_type": "code",
   "execution_count": 11,
   "id": "60493a2b-6a43-45d6-b67c-6bfd967211c5",
   "metadata": {},
   "outputs": [],
   "source": [
    "# read the file, line by line\n",
    "# in each line, splitting the values on \"comma\"\n",
    "# save all the values in a line into a \"list\" (or a Collection of values) \n",
    "# save the collection as \"patient data\"\n"
   ]
  },
  {
   "cell_type": "code",
   "execution_count": 12,
   "id": "25285a44-dd0c-41a5-a7cc-3e22f74b0a5b",
   "metadata": {},
   "outputs": [],
   "source": [
    "file = open(\"dummy.csv\")\n",
    "\n",
    "patient_counter = 1\n",
    "for line in file:\n",
    "    values = line.split(\",\")\n",
    "    if patient_counter == 1:\n",
    "        patient1 = values\n",
    "    elif patient_counter == 2:\n",
    "        patient2 = values\n",
    "    patient_counter = patient_counter + 1"
   ]
  },
  {
   "cell_type": "code",
   "execution_count": 13,
   "id": "4af51b4d-938d-401b-b7a3-1145bf0f4561",
   "metadata": {},
   "outputs": [
    {
     "data": {
      "text/plain": [
       "['10', '9', '8', '7', '6', '5', '4', '3', '2', '1']"
      ]
     },
     "execution_count": 13,
     "metadata": {},
     "output_type": "execute_result"
    }
   ],
   "source": [
    "patient2"
   ]
  },
  {
   "cell_type": "code",
   "execution_count": 14,
   "id": "d7143944-fbe8-4d5b-b10c-94ea15c25b9d",
   "metadata": {},
   "outputs": [
    {
     "data": {
      "text/plain": [
       "['1', '2', '3', '4', '5', '6', '7', '8', '9', '10\\n']"
      ]
     },
     "execution_count": 14,
     "metadata": {},
     "output_type": "execute_result"
    }
   ],
   "source": [
    "patient1"
   ]
  },
  {
   "cell_type": "code",
   "execution_count": 15,
   "id": "c47d66c2-f2fd-49fb-9ab5-d00d0c5b4349",
   "metadata": {},
   "outputs": [
    {
     "data": {
      "text/plain": [
       "3"
      ]
     },
     "execution_count": 15,
     "metadata": {},
     "output_type": "execute_result"
    }
   ],
   "source": [
    "patient_counter"
   ]
  },
  {
   "cell_type": "code",
   "execution_count": 16,
   "id": "b6f6af3c-7d14-4250-beab-a187151b6e29",
   "metadata": {},
   "outputs": [],
   "source": [
    "file = open(\"dummy.csv\")\n",
    "\n",
    "patient_counter = 1\n",
    "for line in file:\n",
    "    line = line.rstrip() # gets rid of the \\n or whatever tabulation you'll in the end\n",
    "    # rstrip lstrip \n",
    "    values = line.split(\",\")\n",
    "    \n",
    "    numbers = []  #creating new list\n",
    "    for value in values:\n",
    "        number = int(value)  # casting the type of each value from string to integer\n",
    "        numbers.append(number)  # adding (appending) the integer value to numbers\n",
    "        \n",
    "    if patient_counter == 1:\n",
    "        patient1 = numbers\n",
    "    elif patient_counter == 2:\n",
    "        patient2 = numbers\n",
    "    patient_counter = patient_counter + 1"
   ]
  },
  {
   "cell_type": "markdown",
   "id": "8772ca9b-80a6-4794-8039-654e0294450d",
   "metadata": {},
   "source": [
    "Play with what we have so far: iteration"
   ]
  },
  {
   "cell_type": "code",
   "execution_count": 17,
   "id": "38f35ae1-ce44-47f5-9265-2f32ec3bfad1",
   "metadata": {},
   "outputs": [
    {
     "data": {
      "text/plain": [
       "[1, 2, 3, 4, 5, 6, 7, 8, 9, 10]"
      ]
     },
     "execution_count": 17,
     "metadata": {},
     "output_type": "execute_result"
    }
   ],
   "source": [
    "patient1"
   ]
  },
  {
   "cell_type": "code",
   "execution_count": 18,
   "id": "1e200c2d-49de-4e82-a919-78eef3e68d2b",
   "metadata": {},
   "outputs": [
    {
     "data": {
      "text/plain": [
       "[10, 9, 8, 7, 6, 5, 4, 3, 2, 1]"
      ]
     },
     "execution_count": 18,
     "metadata": {},
     "output_type": "execute_result"
    }
   ],
   "source": [
    "patient2"
   ]
  },
  {
   "cell_type": "code",
   "execution_count": 19,
   "id": "957f2a24-3523-42ab-8aa2-25d71187c573",
   "metadata": {},
   "outputs": [
    {
     "data": {
      "text/plain": [
       "9"
      ]
     },
     "execution_count": 19,
     "metadata": {},
     "output_type": "execute_result"
    }
   ],
   "source": [
    "# get the 2nd item in patient2\n",
    "patient2[1]"
   ]
  },
  {
   "cell_type": "markdown",
   "id": "68e0ce79-78ee-40a6-b8e0-eef3ff3ec819",
   "metadata": {},
   "source": [
    "(_fancy word_) **Slicing**"
   ]
  },
  {
   "cell_type": "markdown",
   "id": "b17eb294-bd53-4489-9138-10a84e17bf08",
   "metadata": {},
   "source": [
    "![slicing example](https://swcarpentry.github.io/python-novice-inflammation/fig/python-zero-index.svg)"
   ]
  },
  {
   "cell_type": "markdown",
   "id": "712bb90e-c2f9-4f22-be2b-65afc16400a4",
   "metadata": {},
   "source": [
    "Source: [Software Carpentries](https://swcarpentry.github.io/python-novice-inflammation/02-numpy/index.html)"
   ]
  },
  {
   "cell_type": "code",
   "execution_count": 20,
   "id": "81ad0cc8-1968-43ad-acb0-731d892bba3b",
   "metadata": {},
   "outputs": [
    {
     "data": {
      "text/plain": [
       "[10, 9, 8, 7, 6, 5, 4, 3, 2, 1]"
      ]
     },
     "execution_count": 20,
     "metadata": {},
     "output_type": "execute_result"
    }
   ],
   "source": [
    "patient2"
   ]
  },
  {
   "cell_type": "code",
   "execution_count": 21,
   "id": "868a1b97-f825-488a-bf3a-984949111895",
   "metadata": {},
   "outputs": [],
   "source": [
    "p_slice = patient2[1:len(patient2)]"
   ]
  },
  {
   "cell_type": "code",
   "execution_count": 22,
   "id": "61b2cb3c-9686-434c-8eba-efffd0cae647",
   "metadata": {},
   "outputs": [
    {
     "data": {
      "text/plain": [
       "[9, 8, 7, 6, 5, 4, 3, 2, 1]"
      ]
     },
     "execution_count": 22,
     "metadata": {},
     "output_type": "execute_result"
    }
   ],
   "source": [
    "p_slice"
   ]
  },
  {
   "cell_type": "code",
   "execution_count": 23,
   "id": "8408fccd-0d83-4a0c-bc8c-6a37bae9f562",
   "metadata": {},
   "outputs": [
    {
     "data": {
      "text/plain": [
       "[9, 8, 7, 6, 5, 4, 3, 2, 1]"
      ]
     },
     "execution_count": 23,
     "metadata": {},
     "output_type": "execute_result"
    }
   ],
   "source": [
    "patient2[1:]"
   ]
  },
  {
   "cell_type": "code",
   "execution_count": 24,
   "id": "36ef34c2-eff9-40b4-b3a7-e8572d436ae4",
   "metadata": {},
   "outputs": [
    {
     "data": {
      "text/plain": [
       "[9, 8, 7, 6, 5, 4, 3, 2]"
      ]
     },
     "execution_count": 24,
     "metadata": {},
     "output_type": "execute_result"
    }
   ],
   "source": [
    "patient2[1:-1]"
   ]
  },
  {
   "cell_type": "markdown",
   "id": "a947bde6-c61a-4aef-b1af-a9e6b31d33ce",
   "metadata": {},
   "source": [
    "Now let's move to the _real_ data file: **how can we re-use the same algorithm?**"
   ]
  },
  {
   "cell_type": "code",
   "execution_count": 25,
   "id": "6866f778-3b98-4114-8bbb-8764eccf0c1c",
   "metadata": {},
   "outputs": [],
   "source": [
    "# INTRODUCING FUNCTIONS\n",
    "\n",
    "def process_datafile(filename):\n",
    "    # patients = [ (1, 2, 3..), (2, 3, 4,..), (), (), (), () ]\n",
    "    file = open(filename)\n",
    "    patients = []  # list of patient data\n",
    "    for line in file:\n",
    "        line = line.strip()  # get rid of tabs\n",
    "        values = line.split(\",\")  # list of strings\n",
    "        # converting\n",
    "        numbers = []\n",
    "        for value in values:\n",
    "            numbers.append(int(value))\n",
    "        # we have now the list of numbers we wanted\n",
    "        patients.append(tuple(numbers))\n",
    "    \n",
    "    return patients"
   ]
  },
  {
   "cell_type": "markdown",
   "id": "c6f34a5d-3bc7-47a2-bb31-4272970e5299",
   "metadata": {},
   "source": [
    "_now we have 60 patiens to deal with_ - how can we do that?"
   ]
  },
  {
   "cell_type": "code",
   "execution_count": 26,
   "id": "84e9f8df-5a87-47f8-8fcb-e22e951e52d6",
   "metadata": {},
   "outputs": [
    {
     "data": {
      "text/plain": [
       "[(1, 2, 3, 4, 5, 6, 7, 8, 9, 10), (10, 9, 8, 7, 6, 5, 4, 3, 2, 1)]"
      ]
     },
     "execution_count": 26,
     "metadata": {},
     "output_type": "execute_result"
    }
   ],
   "source": [
    "process_datafile(\"dummy.csv\")"
   ]
  },
  {
   "cell_type": "code",
   "execution_count": 27,
   "id": "257289a9-adfd-462c-9731-0971255fd016",
   "metadata": {},
   "outputs": [
    {
     "data": {
      "text/plain": [
       "[(1, 2, 3, 4, 5, 6, 7, 8, 9, 10), (10, 9, 8, 7, 6, 5, 4, 3, 2, 1)]"
      ]
     },
     "execution_count": 27,
     "metadata": {},
     "output_type": "execute_result"
    }
   ],
   "source": [
    "dummy_patients = process_datafile(\"dummy.csv\")\n",
    "dummy_patients"
   ]
  },
  {
   "cell_type": "code",
   "execution_count": 28,
   "id": "4df67359-ea08-40ff-8b79-d077aa117de0",
   "metadata": {},
   "outputs": [
    {
     "data": {
      "text/plain": [
       "(1, 2, 3, 4, 5, 6, 7, 8, 9, 10)"
      ]
     },
     "execution_count": 28,
     "metadata": {},
     "output_type": "execute_result"
    }
   ],
   "source": [
    "dummy_patients[0]"
   ]
  },
  {
   "cell_type": "code",
   "execution_count": 29,
   "id": "3c9a34c5-35a5-4aca-a541-798c173d7e32",
   "metadata": {},
   "outputs": [],
   "source": [
    "inflammation_data = process_datafile(\"data/inflammation-01.csv\")"
   ]
  },
  {
   "cell_type": "code",
   "execution_count": 30,
   "id": "7620a61c-b38f-4a19-b7d5-fd2c3639e228",
   "metadata": {},
   "outputs": [
    {
     "data": {
      "text/plain": [
       "60"
      ]
     },
     "execution_count": 30,
     "metadata": {},
     "output_type": "execute_result"
    }
   ],
   "source": [
    "len(inflammation_data)"
   ]
  },
  {
   "cell_type": "markdown",
   "id": "14fab3f5-300c-4e61-ad1e-29a9ee98280c",
   "metadata": {},
   "source": [
    "Let's make **assertion** about our data"
   ]
  },
  {
   "cell_type": "code",
   "execution_count": 31,
   "id": "dc4e8381-49fa-413c-a964-967595ba0ed2",
   "metadata": {},
   "outputs": [],
   "source": [
    "for patient in inflammation_data:\n",
    "    assert len(patient) == 40, \"This patient hasn't 40 values\""
   ]
  },
  {
   "cell_type": "markdown",
   "id": "aa42b305-81db-427a-ab68-0286deea959d",
   "metadata": {},
   "source": [
    "---\n",
    "\n",
    "### Here is what we've done together in live coding! well done everybody! 🙌"
   ]
  },
  {
   "cell_type": "markdown",
   "id": "77645201-3699-47d3-a795-fcc58a3405ae",
   "metadata": {},
   "source": [
    "# To Complete\n",
    "\n",
    "From this point on, completing the rest of the notebook is up to you! _I know you can do it!_\n",
    "\n",
    "Here is the deal: you have the opportunity to enjoy completing the notebook, by solving the following exercises and challenges. \n",
    "\n",
    "I will provide a few _hints_ and _suggestions_ to help you along the way, but remember: there is **never** a single solution to a coding exercise. \n",
    "\n",
    "Therefore, feel free to be creative, and go for the solution you think would be the most appropriate.\n",
    "\n",
    "The most important bit is to **enjoy** and have fun. If you're not enjoying while you're doing it, you're probably doing it wrong!\n",
    "\n",
    "If you stuck with one exercise, don't worry: go ahead and jump to the next one. "
   ]
  },
  {
   "cell_type": "markdown",
   "id": "43919a34-0732-4276-ab59-2d61de55ce8b",
   "metadata": {},
   "source": [
    "## On your marks, get set, gooo! "
   ]
  },
  {
   "cell_type": "markdown",
   "id": "1d29ad8d-a6b3-4c69-9f6b-2530a381b7a9",
   "metadata": {},
   "source": [
    "## Adding `PatientID` field to the data file"
   ]
  },
  {
   "cell_type": "markdown",
   "id": "7545c8de-4946-47e4-868d-51e3f05eb8fa",
   "metadata": {},
   "source": [
    "What if we also add in a reference ID for each patient? \n",
    "\n",
    "$\\rightarrow$ For this section of exercise, please connsider this new `datafile`: `data/inflammation02.csv`!"
   ]
  },
  {
   "cell_type": "markdown",
   "id": "61b382d2-eb92-42b8-9a6d-1e94a64ff122",
   "metadata": {},
   "source": [
    "_Hint_: TODO: modify the `process_datafile` function to return a **Python Dictionary** this time, rather than a list!\n",
    "\n",
    "For more, pls have a look at [Dictionaries](programming_with_python/dictionaries.ipynb)"
   ]
  },
  {
   "cell_type": "code",
   "execution_count": 2,
   "id": "401d50af-6438-4dc0-ac94-712cefb201c8",
   "metadata": {},
   "outputs": [],
   "source": [
    "def process_datafile_to_dictionary(filename):\n",
    "    file = open(filename)\n",
    "    patients = {}  \n",
    "    for line in file:\n",
    "        line = line.strip()  \n",
    "        values = line.split(\",\")  \n",
    "        key = values[0]\n",
    "        numbers = []\n",
    "        for value in values[1:]:\n",
    "            numbers.append(int(value))\n",
    "        patients[key] = tuple(numbers)\n",
    "    \n",
    "    return patients"
   ]
  },
  {
   "cell_type": "markdown",
   "id": "f2643109-a925-49f3-a80e-a830b5a99f23",
   "metadata": {},
   "source": [
    "**Let's practice with our new data structure**"
   ]
  },
  {
   "cell_type": "markdown",
   "id": "a1516e70-80a8-4f72-813a-75304037640e",
   "metadata": {},
   "source": [
    "**Ex 1.2:** Print the values for the Patients with the following IDs: `2d58`, `5b04`, `c736`\n",
    "\n",
    "_hint_: Retrieve Patient Values by Keys in the Dictionary!"
   ]
  },
  {
   "cell_type": "code",
   "execution_count": 5,
   "id": "4f03168d-d223-487a-a73c-40e05a40da76",
   "metadata": {},
   "outputs": [
    {
     "data": {
      "text/plain": [
       "(0,\n",
       " 1,\n",
       " 0,\n",
       " 0,\n",
       " 4,\n",
       " 3,\n",
       " 3,\n",
       " 5,\n",
       " 5,\n",
       " 4,\n",
       " 5,\n",
       " 8,\n",
       " 7,\n",
       " 10,\n",
       " 13,\n",
       " 3,\n",
       " 7,\n",
       " 13,\n",
       " 15,\n",
       " 18,\n",
       " 8,\n",
       " 15,\n",
       " 15,\n",
       " 16,\n",
       " 11,\n",
       " 14,\n",
       " 12,\n",
       " 4,\n",
       " 10,\n",
       " 10,\n",
       " 4,\n",
       " 3,\n",
       " 4,\n",
       " 5,\n",
       " 5,\n",
       " 3,\n",
       " 3,\n",
       " 2,\n",
       " 2,\n",
       " 1)"
      ]
     },
     "execution_count": 5,
     "metadata": {},
     "output_type": "execute_result"
    }
   ],
   "source": [
    "dct = process_datafile_to_dictionary(\"data/inflammation-02.csv\")\n",
    "dct['2d58']"
   ]
  },
  {
   "cell_type": "code",
   "execution_count": 8,
   "id": "04984369-d8f2-4e39-8f64-ce19b57a5fa0",
   "metadata": {},
   "outputs": [
    {
     "data": {
      "text/plain": [
       "(0,\n",
       " 0,\n",
       " 2,\n",
       " 3,\n",
       " 2,\n",
       " 3,\n",
       " 2,\n",
       " 6,\n",
       " 3,\n",
       " 8,\n",
       " 7,\n",
       " 4,\n",
       " 6,\n",
       " 6,\n",
       " 9,\n",
       " 5,\n",
       " 12,\n",
       " 12,\n",
       " 8,\n",
       " 5,\n",
       " 12,\n",
       " 10,\n",
       " 16,\n",
       " 7,\n",
       " 14,\n",
       " 12,\n",
       " 5,\n",
       " 4,\n",
       " 6,\n",
       " 9,\n",
       " 8,\n",
       " 5,\n",
       " 6,\n",
       " 6,\n",
       " 1,\n",
       " 4,\n",
       " 3,\n",
       " 0,\n",
       " 2,\n",
       " 0)"
      ]
     },
     "execution_count": 8,
     "metadata": {},
     "output_type": "execute_result"
    }
   ],
   "source": [
    "dct['5b04']"
   ]
  },
  {
   "cell_type": "code",
   "execution_count": 7,
   "id": "bf4c5a9f-65a2-40c5-8fce-031066e80c09",
   "metadata": {},
   "outputs": [
    {
     "data": {
      "text/plain": [
       "(0,\n",
       " 1,\n",
       " 1,\n",
       " 2,\n",
       " 2,\n",
       " 5,\n",
       " 1,\n",
       " 7,\n",
       " 4,\n",
       " 2,\n",
       " 5,\n",
       " 5,\n",
       " 4,\n",
       " 6,\n",
       " 6,\n",
       " 4,\n",
       " 16,\n",
       " 11,\n",
       " 14,\n",
       " 16,\n",
       " 14,\n",
       " 14,\n",
       " 8,\n",
       " 17,\n",
       " 4,\n",
       " 14,\n",
       " 13,\n",
       " 7,\n",
       " 6,\n",
       " 3,\n",
       " 7,\n",
       " 7,\n",
       " 5,\n",
       " 6,\n",
       " 3,\n",
       " 4,\n",
       " 2,\n",
       " 2,\n",
       " 1,\n",
       " 1)"
      ]
     },
     "execution_count": 7,
     "metadata": {},
     "output_type": "execute_result"
    }
   ],
   "source": [
    "dct['c736']"
   ]
  },
  {
   "cell_type": "markdown",
   "id": "60abb5d4-4bc8-4222-96f4-7d46cc5bd07e",
   "metadata": {},
   "source": [
    "**Ex 1.3:** Write a function to calculate the **average** inflammation value for a given patient\n",
    "\n",
    "_hint_: Think carefully about what values would you pass as argument to the function!"
   ]
  },
  {
   "cell_type": "code",
   "execution_count": 9,
   "id": "efe6dab4-fbd9-4b20-baa9-897fdf52dc7a",
   "metadata": {},
   "outputs": [],
   "source": [
    "def average_patient(dct, PatientID):\n",
    "    tp = dct[PatientID]\n",
    "    av = 0\n",
    "    ln = len(tp)\n",
    "    sm = 0\n",
    "    for t in tp:\n",
    "        sm = sm + t\n",
    "    av = sm/ln\n",
    "    return av"
   ]
  },
  {
   "cell_type": "code",
   "execution_count": 11,
   "id": "f559e500-f709-4daf-83a2-cd89a4d0ccc3",
   "metadata": {},
   "outputs": [
    {
     "data": {
      "text/plain": [
       "6.25"
      ]
     },
     "execution_count": 11,
     "metadata": {},
     "output_type": "execute_result"
    }
   ],
   "source": [
    "av = average_patient(dct, 'c736')\n",
    "av"
   ]
  },
  {
   "cell_type": "markdown",
   "id": "af9eacca-9bf6-4b51-985c-12037bade521",
   "metadata": {},
   "source": [
    "**Ex 1.4:** Write a function to calculate the **min** and **max** inflammation value for a given patient\n",
    "\n",
    "_hint_: in Python, a function **can** return _any_ number of values you want! So you can `return min, max`"
   ]
  },
  {
   "cell_type": "code",
   "execution_count": 18,
   "id": "5163627d-9a42-4276-b1b6-cd54e887e09a",
   "metadata": {},
   "outputs": [],
   "source": [
    "def min_max_patient(dct, PatientID):\n",
    "    tps = dct[PatientID]\n",
    "    mn = 1000000\n",
    "    mx = 0\n",
    "    for tp  in tps:\n",
    "        if tp > mx:\n",
    "            mx = tp\n",
    "        if tp < mn:\n",
    "            mn = tp      \n",
    "        \n",
    "    return mn, mx"
   ]
  },
  {
   "cell_type": "code",
   "execution_count": 19,
   "id": "f0cefea3-30c9-4f03-a142-19a8fd36ff24",
   "metadata": {},
   "outputs": [
    {
     "data": {
      "text/plain": [
       "(0, 17)"
      ]
     },
     "execution_count": 19,
     "metadata": {},
     "output_type": "execute_result"
    }
   ],
   "source": [
    "mn_mx = min_max_patient(dct, 'c736')\n",
    "mn_mx"
   ]
  },
  {
   "cell_type": "markdown",
   "id": "efb36e5f-ffbf-45d4-9406-2a04bb7a8e93",
   "metadata": {},
   "source": [
    "## 2. Dealing with more _realistic cases_ ❌"
   ]
  },
  {
   "cell_type": "markdown",
   "id": "890adce1-ce26-48f0-9660-5d7d0b885de8",
   "metadata": {},
   "source": [
    "**Ex 2.1:** Considering the data at hand, now let's try to think about _what can go wrong with data acquisition_!\n",
    "\n",
    "The first exercise in this section is a a NO-CODING exercise. \n",
    "\n",
    "What I'd like you to do is to think about the data that we have (**and their corresponding specification!**) and list all the things that **CAN POSSIBLY GO WRONG** while reading and storing the data. \n",
    "\n",
    "Some of those can be _pre-conditions_, i.e. \"conditions that should hold **before** reading the data from the file\"; whereas some others can be _post-conditions_, that is \"conditions that should hold **after** all has gone apparently well with data acquisition.\". \n",
    "\n",
    "The goal is to elicit all the possible conditions of errors we should account for in our code. \n",
    "\n",
    "You  _could also_ mark pre and post conditions in your list with the following tags: `[PRE]`; `[POST]`  "
   ]
  },
  {
   "cell_type": "markdown",
   "id": "851cf9b5-6b44-4a4e-8a64-83fda55e020d",
   "metadata": {},
   "source": [
    "Your list here: (*I'll go first*)\n",
    "\n",
    "0. [PRE] Check filename\n",
    "1. [PRE] Tabulation characters at both ends of the lines should be removed;\n",
    "2. [PRE] The file should not contain any empty line. If so, those should be discarded.\n",
    "3. [POST] There should be `60` patients.\n",
    "4. [POST] Each patient should have `40` values\n",
    "5. [PRE/POST] Every patient should have a unique ID (in other words, IDs should not be repeated)\n",
    "6. [PRE] Inflammation data should be non-negative integer values\n",
    "7. [PRE/POST] We must set min and max limit for inflammation (min - PRE6, max < 21) \n",
    "..."
   ]
  },
  {
   "cell_type": "markdown",
   "id": "c9a6bff1-b034-4959-9731-e7bd948b6d8b",
   "metadata": {},
   "source": [
    "**Ex 2.2:** Please refer to `datafile`: `data/inflammation-03.csv`\n",
    "\n",
    "I have intentionally modified the original data in order to introduce some mistakes. Some are quite sneaky! \n",
    "\n",
    "Try to modify the `process_datafile` function in order to correctly load patient data included in `data/inflammation-03.csv`.\n",
    "\n",
    "The new code in the `process_datafile` function should deal with all the **\\[PRE\\]** conditions identified in the previous list!\n",
    "\n",
    "_Hint_: Before doing this exercise, have a quick look at the `try/execpt` section in [Exceptions](programming_with_python/exceptions.ipynb).\n",
    "Then, try to identify which exceptions correspond to the different error conditions, and _control_ the error cases for the different pre-conditions.\n",
    "**Please** have a look at the example reported below :)"
   ]
  },
  {
   "cell_type": "code",
   "execution_count": 32,
   "id": "f8fd8a58-2774-48a2-a02b-1aa75732a7af",
   "metadata": {},
   "outputs": [],
   "source": [
    "def process_file(filepath):\n",
    "    file = open(filepath)\n",
    "    patients = {}  \n",
    "    for line in file:\n",
    "        values = line.strip().split(\",\")\n",
    "        key = values[0]\n",
    "        numbers = []\n",
    "        patient_counter = 60\n",
    "        for value in values[1:]:\n",
    "            value_counter = 40\n",
    "            try:\n",
    "                number = int(value)\n",
    "                if number > 20:\n",
    "                    number = 20 # PRE#7\n",
    "            except ValueError:  # if trying to cast to integer a NON-NUMERICAL Value, ValueError is raised as exception\n",
    "                # PRE#6 NON-Numerical value\n",
    "                number = 0  # setting value to default min to handle the case\n",
    "            finally:\n",
    "                number = max(0, number)  # PRE#6 accounting for Negative values\n",
    "                value_counter -= 1\n",
    "                numbers.append(number)\n",
    "            \n",
    "            if value_counter > 0:\n",
    "                # Exception\n",
    "            \n",
    "            \n",
    "            \n",
    "        patients[key] = tuple(numbers)\n",
    "        patient_counter -= 1\n",
    "        \n",
    "        if patient_counter > 0:\n",
    "            # Exception\n",
    "        ...\n",
    "        "
   ]
  },
  {
   "cell_type": "markdown",
   "id": "372f3ea2-a9c3-4677-9abc-c85f72e67a3f",
   "metadata": {},
   "source": [
    "Putting our helmets on (_with some testing_) ⛑"
   ]
  },
  {
   "cell_type": "markdown",
   "id": "ca8eac73-8d5c-46cf-a8a9-cbad3db7a18e",
   "metadata": {},
   "source": [
    "Great! So till now we've accounted for _pre-conditions_ in the data, by changing our function implementation to incorporate the code to deal with error cases. Now it's time to verify **POST** conditions on the data.\n",
    "\n",
    "Post-conditions can only be verified **after** the dataset has been loaded (which means that the whole execution of `process_datafile` terminates with NO-ERROR)."
   ]
  },
  {
   "cell_type": "markdown",
   "id": "c42889f8-9942-4f57-ad58-477d7dd318cc",
   "metadata": {},
   "source": [
    "**Ex 2.3:** Implement a series of Testing functions to verify post conditions. Note: It's a good practice to have each Test covering one single post-condition at a time.\n",
    "\n",
    "_hint_: I will show you an example of what I am expecting yuo do do:"
   ]
  },
  {
   "cell_type": "code",
   "execution_count": 35,
   "id": "04a09a12-6091-4e96-847c-851bb9303e29",
   "metadata": {},
   "outputs": [
    {
     "name": "stdout",
     "output_type": "stream",
     "text": [
      "✅ Test 'test_post_3_total_no_patients_is_60' passed on data/inflammation-01.csv!\n"
     ]
    }
   ],
   "source": [
    "def test_post_3_total_no_patients_is_60(filename):\n",
    "    # testing function to verify the post/condition #3\n",
    "    patients = process_datafile(filename)\n",
    "    assert len(patients) == 60, f\"ERROR: Patients were expected to be 60 but {len(patients)} were found!\"\n",
    "    print(f\"✅ Test 'test_post_3_total_no_patients_is_60' passed on {filename}!\")\n",
    "    \n",
    "\n",
    "#invoke to execute: \n",
    "test_post_3_total_no_patients_is_60(\"data/inflammation-01.csv\")\n",
    "\n",
    "# complete: invoke on inflammation-02 and inflammation-03 :)"
   ]
  },
  {
   "cell_type": "code",
   "execution_count": null,
   "id": "c090aa47-4748-4b5f-9338-7cd0cb85c593",
   "metadata": {},
   "outputs": [],
   "source": [
    "def test_post_4_all_patients_have_40days_of_data(filename):\n",
    "    #YOUR CODE HERE\n",
    "    print(f\"✅ Test 'test_post_4_all_patients_have_40days_of_data' passed on {filename}!\")\n",
    "   "
   ]
  },
  {
   "cell_type": "code",
   "execution_count": null,
   "id": "7ebac187-7425-460c-b29e-dbe1fb9ce5fb",
   "metadata": {},
   "outputs": [],
   "source": [
    "# write other tests for any other condition you think it would be appropriate"
   ]
  },
  {
   "cell_type": "code",
   "execution_count": null,
   "id": "adb52e10-dcce-4da5-bad5-e8a1616e0b04",
   "metadata": {},
   "outputs": [],
   "source": []
  },
  {
   "cell_type": "code",
   "execution_count": null,
   "id": "6da61b11-5ef9-4997-9e44-49af8d8dae96",
   "metadata": {},
   "outputs": [],
   "source": []
  },
  {
   "cell_type": "markdown",
   "id": "3b736e26-d4b7-459d-9ae5-ed011c932431",
   "metadata": {},
   "source": [
    "--- \n",
    "\n",
    "Well done for reaching this point! 🎉"
   ]
  },
  {
   "cell_type": "markdown",
   "id": "05c243c2-9f8e-4c3a-9c25-b5d81d8da3d8",
   "metadata": {},
   "source": [
    "**GREAT TIME FOR A BREAK NOW!** ☕️🧁🍪"
   ]
  },
  {
   "cell_type": "markdown",
   "id": "fe0323ce-2e9c-401e-93cb-cc1f4c548f79",
   "metadata": {},
   "source": [
    "---\n"
   ]
  },
  {
   "cell_type": "markdown",
   "id": "5f661261-c368-4978-99cf-aed9253a1209",
   "metadata": {},
   "source": [
    "## 3. Rethink about our Data (Abstractions): let's define our own **new type**!\n",
    "\n",
    "Before giving a go to the next couple of Exercises, please consider taking a look at the [Classes](programming_with_python/classes.ipynb) Notebook."
   ]
  },
  {
   "cell_type": "markdown",
   "id": "ed4dd69e-de27-43d8-8fb4-7c84c5c83abb",
   "metadata": {},
   "source": [
    "The `Patient` is an important entity in our use case scenario that it probably deserves its own **type** (or data abstraction). Therefore, when creating variable we want to be able to **assign** a value that is of `type = Patient`. \n",
    "\n",
    "To do so, we'd need to **define** a _new data type_ (`Patient` type, indeed), and the way we will do this is by creating a new `Patient` class.\n",
    "\n",
    "**Ex 3.1:** Complete the following Class Stub below (or even modify it, if you think) to make the following cell executing with **no error**.\n",
    "\n",
    "\n",
    "_Hint_ At this stage, identify which attribute shuold be included."
   ]
  },
  {
   "cell_type": "code",
   "execution_count": 36,
   "id": "e9a8be34-50f3-4eff-b908-5d07504af535",
   "metadata": {},
   "outputs": [],
   "source": [
    "# Examplar Code Stub\n",
    "\n",
    "class Patient:\n",
    "    # constructor\n",
    "    def __init__(self, patientID, values):\n",
    "        self.patient_id = ...\n",
    "        self.inflammation_values = ...\n",
    "        ...\n",
    "        \n",
    "    #method\n",
    "    def convert_to_numbers(self, values):\n",
    "        numerical_values = []\n",
    "        for value in values:\n",
    "            try:\n",
    "                number = int(value)\n",
    "            except ValueError:  # if trying to cast to integer a NON-NUMERICAL Value, ValueError is raised as exception\n",
    "                # PRE#6 NON-Numerical value\n",
    "                number = 0  # setting value to default min to handle the case\n",
    "            finally:\n",
    "                number = max(0, number)  # PRE#6 accounting for Negative values\n",
    "                numerical_values.append(number)\n",
    "        return numerical_values\n",
    "    \n",
    "    ..."
   ]
  },
  {
   "cell_type": "markdown",
   "id": "6fb2fcc6-0c45-4286-8403-844470ea427d",
   "metadata": {},
   "source": [
    "**Ex 3.2**: Modify the `process_datafile` function so that a **list** of `Patient` objects is returned, rather than a list of tuples (or a dictonary of tuples)                              m"
   ]
  },
  {
   "cell_type": "code",
   "execution_count": null,
   "id": "841d13aa-ebda-48fd-93f3-a09ea2b16484",
   "metadata": {},
   "outputs": [],
   "source": []
  },
  {
   "cell_type": "code",
   "execution_count": null,
   "id": "2d9c8e33-edd2-4d39-81af-9b9807f1a77d",
   "metadata": {},
   "outputs": [],
   "source": []
  }
 ],
 "metadata": {
  "kernelspec": {
   "display_name": "Python 3",
   "language": "python",
   "name": "python3"
  },
  "language_info": {
   "codemirror_mode": {
    "name": "ipython",
    "version": 3
   },
   "file_extension": ".py",
   "mimetype": "text/x-python",
   "name": "python",
   "nbconvert_exporter": "python",
   "pygments_lexer": "ipython3",
   "version": "3.8.8"
  }
 },
 "nbformat": 4,
 "nbformat_minor": 5
}
